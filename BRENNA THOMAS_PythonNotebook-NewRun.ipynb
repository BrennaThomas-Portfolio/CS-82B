{
  "metadata": {
    "kernelspec": {
      "name": "python",
      "display_name": "Python (Pyodide)",
      "language": "python"
    },
    "language_info": {
      "codemirror_mode": {
        "name": "ipython",
        "version": 3
      },
      "file_extension": ".py",
      "mimetype": "text/x-python",
      "name": "python",
      "nbconvert_exporter": "python",
      "pygments_lexer": "ipython3",
      "version": "3.11.0"
    },
    "anaconda-cloud": {}
  },
  "nbformat_minor": 4,
  "nbformat": 4,
  "cells": [
    {
      "cell_type": "markdown",
      "source": "# Python Exercises in the Jupyter Notebook",
      "metadata": {},
      "attachments": {}
    },
    {
      "cell_type": "markdown",
      "source": "### To be covered:\n* How to use [Jupyter Notebook](http://jupyter.org/)\n* Some *basic* python programming\n* **Required: Complete the Exercises as described below.**",
      "metadata": {},
      "attachments": {}
    },
    {
      "cell_type": "markdown",
      "source": "### What is Jupyter?\n\n* Jupyter is a notebook environment with a browser interface that can be used for interactive computing in Python and other languages (I haven't tried other languages).\n* From when you open (or restart) a Jupyter notebook, variable assignments, function declarations, etc are stored and updated as you go.\n* Basic usage: \n    * Type some code in a cell\n    * Hit `<shift><enter>` to execute the cell\n    * The *return value* or the *string representation* of the last line of the cell will be output below the code.\n\n### Saving\n* The notebook periodically gets saved automatically, but you can also do File -> Save and Checkpoint\n* You can change the name by clicking on the name\n(I like to do \"Make a copy\" periodically to explicitly save older versions)",
      "metadata": {},
      "attachments": {}
    },
    {
      "cell_type": "code",
      "source": "my_name = 'ari'",
      "metadata": {
        "trusted": true
      },
      "outputs": [],
      "execution_count": null
    },
    {
      "cell_type": "code",
      "source": "my_name",
      "metadata": {
        "collapsed": false,
        "jupyter": {
          "outputs_hidden": false
        },
        "trusted": true
      },
      "outputs": [],
      "execution_count": null
    },
    {
      "cell_type": "code",
      "source": "2 + 2",
      "metadata": {
        "collapsed": false,
        "scrolled": true,
        "jupyter": {
          "outputs_hidden": false
        },
        "trusted": true
      },
      "outputs": [],
      "execution_count": null
    },
    {
      "cell_type": "code",
      "source": "example_variable = 2 + 2",
      "metadata": {
        "collapsed": false,
        "jupyter": {
          "outputs_hidden": false
        },
        "trusted": true
      },
      "outputs": [],
      "execution_count": null
    },
    {
      "cell_type": "code",
      "source": "example_variable",
      "metadata": {
        "collapsed": false,
        "jupyter": {
          "outputs_hidden": false
        },
        "trusted": true
      },
      "outputs": [],
      "execution_count": null
    },
    {
      "cell_type": "code",
      "source": "example_variable = example_variable + 5\nexample_variable",
      "metadata": {
        "collapsed": false,
        "jupyter": {
          "outputs_hidden": false
        },
        "trusted": true
      },
      "outputs": [],
      "execution_count": null
    },
    {
      "cell_type": "markdown",
      "source": "* Other key Jupyter features:\n    * tab completion (right now, if you type \"exam\" and hit `<tab>`, it will complete with \"example_variable\")\n    * easy access to function documentation\n    * syntax highlighting\n    * `%%time` at the beginning of a cell will print out how long it took to run the code",
      "metadata": {}
    },
    {
      "cell_type": "markdown",
      "source": "## Jupyter editing\n* Jupyter interactive editing is somewhat patterned after the unix editor vi (if you're a nerd and you happen to know what that is).\n* You're either in **edit mode** or **command mode**. You can tell you're in edit mode if there is a blinking cursor in the highlighted cell.\n* In edit mode, obviously, you edit the code.\n* In command mode, there are a bunch of shortcut keys. For example, hitting 'm' changes cell type to \"Markdown\". Hitting 'l' adds line numbers. 'x' cuts (deletes) the cell. 'z' undoes the last cell deletion, but currently it only remembers one deletion back.\n* **Common mistake**: starting to type while in command mode. \n* More shortcut keys in command mode:\n    * `<shift><enter>` to run the code in the cell\n    * 'a' and 'b' create a new cell above or below the current cell\n    * 'c', 'x', 'v': copy, cut, paste.\n    * 'M' merges the current cell with the one below it.\n    * 'r' changes cell type to \"Raw\", which is useful as a quick way to clear lengthy output: hit 'r' then 'y' to change it back to type \"Code\"\n* Shortcut keys in command mode:\n    * `<shift><enter>` to run the code in the cell\n    * `<command>z` to undo edits\n    * You can highlight a bunch of code and hit `<tab>` to indent it\n    * To split cells, click inside the cell where you want the split and hit `<ctrl><shift>-`\n    * Hit `<escape>` while in edit mode to switch to command mode.",
      "metadata": {}
    },
    {
      "cell_type": "markdown",
      "source": "You can also change cell type using the \"Cell\" pull-down menu.  \nBy the way, \"Markdown\" is what I'm using to make these nice text cells (you can even have tables!) - see [Markdown Cheatsheet](https://github.com/adam-p/markdown-here/wiki/Markdown-Cheatsheet).  \n\"Raw\" is a good way to comment out a cell so it won't run. ",
      "metadata": {}
    },
    {
      "cell_type": "markdown",
      "source": "## Coding examples",
      "metadata": {}
    },
    {
      "cell_type": "code",
      "source": "# Execute me by hitting <shift><enter>\nfor i in range(7):\n    print(i)",
      "metadata": {
        "collapsed": false,
        "jupyter": {
          "outputs_hidden": false
        },
        "trusted": true
      },
      "outputs": [],
      "execution_count": null
    },
    {
      "cell_type": "markdown",
      "source": "### A couple of really important points:\n* Click inside the parentheses of the range function and hit `<shift><tab>` to see documentation.\n* `range(7)` spits out 0 to 6 because python indexing is 0-based. More on that later.\n* **Stuff inside the for loop must be indented 4 spaces.** Python is *very* much a stickler on this!\n    * (Explanation: the python interpreter considers the code inside the loop to begin after the \":\" and end when you stop indenting 4 spaces)",
      "metadata": {}
    },
    {
      "cell_type": "markdown",
      "source": "### Exercise 0: Predict in your head what the following code will print out, then try executing it.",
      "metadata": {},
      "attachments": {}
    },
    {
      "cell_type": "code",
      "source": "for i in range(2):\n    print(i)\n    print(\"yo\")\nprint(\"dude\")",
      "metadata": {
        "collapsed": false,
        "jupyter": {
          "outputs_hidden": false
        },
        "trusted": true
      },
      "outputs": [],
      "execution_count": null
    },
    {
      "cell_type": "markdown",
      "source": "### Exercise 1: below, add an *argument* to the *print function* to make it print out \"0123456\" without the *newlines*. A for loop is one example but what argument does the print statement use to remove the default new line.\n***Hint: use `<shift><tab>` trick to see documentation for print function***",
      "metadata": {},
      "attachments": {}
    },
    {
      "cell_type": "code",
      "source": "for i in range(7):\n    print(i)",
      "metadata": {
        "collapsed": false,
        "jupyter": {
          "outputs_hidden": false
        },
        "trusted": true
      },
      "outputs": [],
      "execution_count": null
    },
    {
      "cell_type": "code",
      "source": "s = \"\"\nfor i in range(7):\n    s=s+str(i)\n    print(s)",
      "metadata": {
        "collapsed": false,
        "jupyter": {
          "outputs_hidden": false
        },
        "trusted": true
      },
      "outputs": [],
      "execution_count": null
    },
    {
      "cell_type": "code",
      "source": "for i in range(7):\n    print(i, end=(\"\")\n",
      "metadata": {
        "collapsed": false,
        "jupyter": {
          "outputs_hidden": false
        },
        "trusted": true
      },
      "outputs": [],
      "execution_count": null
    },
    {
      "cell_type": "markdown",
      "source": "# Lists, tuples, dictionaries: containers of arbitrary things\n* These are the most important data storage constructs in basic python",
      "metadata": {}
    },
    {
      "cell_type": "markdown",
      "source": "### List",
      "metadata": {}
    },
    {
      "cell_type": "code",
      "source": "example_list = ['alpha', 'bravo', 2, print]",
      "metadata": {
        "trusted": true
      },
      "outputs": [],
      "execution_count": null
    },
    {
      "cell_type": "code",
      "source": "type(example_list)",
      "metadata": {
        "collapsed": false,
        "jupyter": {
          "outputs_hidden": false
        },
        "trusted": true
      },
      "outputs": [],
      "execution_count": null
    },
    {
      "cell_type": "code",
      "source": "# Print each item in the list\n\nfor item in example_list:\n    print(item,end=\"\")",
      "metadata": {
        "collapsed": false,
        "jupyter": {
          "outputs_hidden": false
        },
        "trusted": true
      },
      "outputs": [],
      "execution_count": null
    },
    {
      "cell_type": "code",
      "source": "# Access the second item in the list (0-based indexing!)\n\nexample_list[1]",
      "metadata": {
        "collapsed": false,
        "jupyter": {
          "outputs_hidden": false
        },
        "trusted": true
      },
      "outputs": [],
      "execution_count": null
    },
    {
      "cell_type": "markdown",
      "source": "### Exercise 2: What is the Python code to access the 1st item in the list?",
      "metadata": {},
      "attachments": {}
    },
    {
      "cell_type": "code",
      "source": "example_list[0]",
      "metadata": {
        "trusted": true
      },
      "outputs": [],
      "execution_count": null
    },
    {
      "cell_type": "markdown",
      "source": "### Tuple",
      "metadata": {}
    },
    {
      "cell_type": "code",
      "source": "example_tuple = ('alpha', 'bravo', 2, print)",
      "metadata": {
        "trusted": true
      },
      "outputs": [],
      "execution_count": null
    },
    {
      "cell_type": "code",
      "source": "type(example_tuple)",
      "metadata": {
        "collapsed": false,
        "jupyter": {
          "outputs_hidden": false
        },
        "trusted": true
      },
      "outputs": [],
      "execution_count": null
    },
    {
      "cell_type": "code",
      "source": "for item in example_tuple:\n    print(item)",
      "metadata": {
        "collapsed": false,
        "jupyter": {
          "outputs_hidden": false
        },
        "trusted": true
      },
      "outputs": [],
      "execution_count": null
    },
    {
      "cell_type": "code",
      "source": "example_tuple[0]",
      "metadata": {
        "collapsed": false,
        "jupyter": {
          "outputs_hidden": false
        },
        "trusted": true
      },
      "outputs": [],
      "execution_count": null
    },
    {
      "cell_type": "markdown",
      "source": "Tuple is just like list except it's static.  \nUse lists unless you know you need a tuple.",
      "metadata": {}
    },
    {
      "cell_type": "markdown",
      "source": "### Dict",
      "metadata": {}
    },
    {
      "cell_type": "code",
      "source": "example_dict = {'a':63, 7:'a', 'g':print}   # {key:value, key:value, key:value}",
      "metadata": {
        "trusted": true
      },
      "outputs": [],
      "execution_count": null
    },
    {
      "cell_type": "code",
      "source": "type(example_dict)",
      "metadata": {
        "collapsed": false,
        "jupyter": {
          "outputs_hidden": false
        },
        "trusted": true
      },
      "outputs": [],
      "execution_count": null
    },
    {
      "cell_type": "code",
      "source": "example_dict",
      "metadata": {
        "collapsed": false,
        "jupyter": {
          "outputs_hidden": false
        },
        "trusted": true
      },
      "outputs": [],
      "execution_count": null
    },
    {
      "cell_type": "code",
      "source": "example_dict['a']",
      "metadata": {
        "collapsed": false,
        "jupyter": {
          "outputs_hidden": false
        },
        "trusted": true
      },
      "outputs": [],
      "execution_count": null
    },
    {
      "cell_type": "code",
      "source": "example_dict[7]",
      "metadata": {
        "collapsed": false,
        "jupyter": {
          "outputs_hidden": false
        },
        "trusted": true
      },
      "outputs": [],
      "execution_count": null
    },
    {
      "cell_type": "code",
      "source": "# Raises Exception KeyError if you query a key that is not in the dict\n# You can do example_dict.get(key, default_value) to gracefully return, e.g. 0 when the key is missing.\n\nexample_dict[15]",
      "metadata": {
        "collapsed": false,
        "jupyter": {
          "outputs_hidden": false
        },
        "trusted": true
      },
      "outputs": [],
      "execution_count": null
    },
    {
      "cell_type": "code",
      "source": "example_dict['g']",
      "metadata": {
        "collapsed": false,
        "jupyter": {
          "outputs_hidden": false
        },
        "trusted": true
      },
      "outputs": [],
      "execution_count": null
    },
    {
      "cell_type": "markdown",
      "source": "**Common mistake**: `example_dict[g]` would throw an exception. You need those quotes.",
      "metadata": {}
    },
    {
      "cell_type": "code",
      "source": "# example_dict['g'] is a function, so we can use it like a function\n\nexample_dict['g'](\"you coding, bro?\")",
      "metadata": {
        "collapsed": false,
        "jupyter": {
          "outputs_hidden": false
        },
        "trusted": true
      },
      "outputs": [],
      "execution_count": null
    },
    {
      "cell_type": "markdown",
      "source": "# Strings",
      "metadata": {}
    },
    {
      "cell_type": "code",
      "source": "'  A String  '",
      "metadata": {
        "collapsed": false,
        "jupyter": {
          "outputs_hidden": false
        },
        "trusted": true
      },
      "outputs": [],
      "execution_count": null
    },
    {
      "cell_type": "code",
      "source": "type('  A String  ')",
      "metadata": {
        "collapsed": false,
        "jupyter": {
          "outputs_hidden": false
        },
        "trusted": true
      },
      "outputs": [],
      "execution_count": null
    },
    {
      "cell_type": "code",
      "source": "# The str type has lots of useful functions\n\n'  A String '.strip().lower()",
      "metadata": {
        "collapsed": false,
        "jupyter": {
          "outputs_hidden": false
        },
        "trusted": true
      },
      "outputs": [],
      "execution_count": null
    },
    {
      "cell_type": "markdown",
      "source": "### Exercise 3: See what each of those functions, `.strip()` and `.lower()` do separately",
      "metadata": {},
      "attachments": {}
    },
    {
      "cell_type": "code",
      "source": "'   A    String  k   '.strip()\n",
      "metadata": {
        "collapsed": false,
        "jupyter": {
          "outputs_hidden": false
        },
        "trusted": true
      },
      "outputs": [],
      "execution_count": null
    },
    {
      "cell_type": "code",
      "source": "'A String'.lower()\n",
      "metadata": {
        "collapsed": false,
        "jupyter": {
          "outputs_hidden": false
        },
        "trusted": true
      },
      "outputs": [],
      "execution_count": null
    },
    {
      "cell_type": "markdown",
      "source": "### Review the output of the below comparisons and add string",
      "metadata": {},
      "attachments": {}
    },
    {
      "cell_type": "code",
      "source": "'Jack' == 'jack'   # comparison of strings",
      "metadata": {
        "collapsed": false,
        "jupyter": {
          "outputs_hidden": false
        },
        "trusted": true
      },
      "outputs": [],
      "execution_count": null
    },
    {
      "cell_type": "code",
      "source": "'Jack'.lower() == 'jack'.lower()   # comparison of strings",
      "metadata": {
        "collapsed": false,
        "jupyter": {
          "outputs_hidden": false
        },
        "trusted": true
      },
      "outputs": [],
      "execution_count": null
    },
    {
      "cell_type": "code",
      "source": "str('time') + str('honey')",
      "metadata": {
        "collapsed": false,
        "jupyter": {
          "outputs_hidden": false
        },
        "trusted": true
      },
      "outputs": [],
      "execution_count": null
    },
    {
      "cell_type": "markdown",
      "source": "### Exceptions - Note the AttributeError exception when function method .lower() is applied to a integer value.",
      "metadata": {},
      "attachments": {}
    },
    {
      "cell_type": "code",
      "source": "a = 'FANTASTIC!'\na.lower()",
      "metadata": {
        "collapsed": false,
        "jupyter": {
          "outputs_hidden": false
        },
        "trusted": true
      },
      "outputs": [],
      "execution_count": null
    },
    {
      "cell_type": "code",
      "source": "a = 3\na.lower()   # throws Exception",
      "metadata": {
        "collapsed": false,
        "jupyter": {
          "outputs_hidden": false
        },
        "trusted": true
      },
      "outputs": [],
      "execution_count": null
    },
    {
      "cell_type": "markdown",
      "source": "`AttributeError` is an *exception* that python *throws* when it gets this bad input.  \nEarlier we saw a `dict` throw the *exception* `KeyError` when I queried a key that wasn't present.",
      "metadata": {}
    },
    {
      "cell_type": "markdown",
      "source": "Often times an exception get thrown, like, 4 layers deep in function calls, e.g. `e(f(g(h(whathaveyou)))` and the function `h` has a problem operating on `whathaveyou`. In that case you get a traceback that shows the layers, which is long, but you get used to it. \n\n#### Often the error message is not helpful. Keep calm and Google it. Even the most experience developer Googles error messages and syntax. ",
      "metadata": {},
      "attachments": {}
    },
    {
      "cell_type": "code",
      "source": "# Remember that crazy list of mixed types from earlier?\nexample_list = ['alpha', 'bravo', 2, print]",
      "metadata": {
        "trusted": true
      },
      "outputs": [],
      "execution_count": null
    },
    {
      "cell_type": "code",
      "source": "for item in example_list:\n    item('works!')",
      "metadata": {
        "collapsed": false,
        "jupyter": {
          "outputs_hidden": false
        },
        "trusted": true
      },
      "outputs": [],
      "execution_count": null
    },
    {
      "cell_type": "markdown",
      "source": "Here, `TypeError` is thrown on the first iteration of the for loop because the first item, `'alpha'`, is not a function, and you can only do `something(input)` if `something` is a function (well, there's other things it could be, e.g. a class, but you get the point).",
      "metadata": {}
    },
    {
      "cell_type": "code",
      "source": "# try: except: clause to handle exceptions\nfor item in example_list:\n    try:\n        item('carl is my therapist')\n    except:\n        print(\"Error: {} doesn't work\".format(item))",
      "metadata": {
        "collapsed": false,
        "jupyter": {
          "outputs_hidden": false
        },
        "trusted": true
      },
      "outputs": [],
      "execution_count": null
    },
    {
      "cell_type": "code",
      "source": "# Can also get more information on what's causing the exception\nfor item in example_list:\n    try:\n        item('carl is my therapist')\n    except:\n        print(\"Error: {} doesn't work\".format(item))\n        print(type(item))",
      "metadata": {
        "collapsed": false,
        "jupyter": {
          "outputs_hidden": false
        },
        "trusted": true
      },
      "outputs": [],
      "execution_count": null
    },
    {
      "cell_type": "markdown",
      "source": "### Exercise 4: Complete the below steps:\n1. Store a string in a variable, example: `color = 'blue'`\n1. Make a list containing the functions `type`, `len`, and `str.upper`\n1. Use a for loop to iterate over that list like so: `for func in your_list:`\n1. In the for loop, execute the current function with the variable you created as input, and print its output: `print(func(color))`",
      "metadata": {},
      "attachments": {}
    },
    {
      "cell_type": "markdown",
      "source": "#Store a string in a variable, example: color = 'blue'",
      "metadata": {}
    },
    {
      "cell_type": "code",
      "source": "color = 'pink'\n",
      "metadata": {
        "trusted": true
      },
      "outputs": [],
      "execution_count": null
    },
    {
      "cell_type": "markdown",
      "source": "#Make a list containing the functions type, len, and str.upper",
      "metadata": {}
    },
    {
      "cell_type": "code",
      "source": "functions_list = [type, len, str.upper]\n",
      "metadata": {
        "trusted": true
      },
      "outputs": [],
      "execution_count": null
    },
    {
      "cell_type": "markdown",
      "source": "#Use a for loop to iterate over that list like so: for func in your_list:",
      "metadata": {}
    },
    {
      "cell_type": "code",
      "source": "for func in functions_list:\n",
      "metadata": {
        "trusted": true
      },
      "outputs": [],
      "execution_count": null
    },
    {
      "cell_type": "markdown",
      "source": "#In the for loop, execute the current function with the variable you created as input, and print its output: print(func(color))",
      "metadata": {}
    },
    {
      "cell_type": "code",
      "source": "print(func(color))\n",
      "metadata": {
        "trusted": true
      },
      "outputs": [],
      "execution_count": null
    },
    {
      "cell_type": "markdown",
      "source": "### Exercise 5: Complete the below steps:\n1. Add the string `'nothing'` to the list, so that we get an exception thrown when python tries to execute it. Hint: .append()\n1. Now put function call inside a `try: except:` clause to gracefully handle the exception. Hint: try: & except: ",
      "metadata": {},
      "attachments": {}
    },
    {
      "cell_type": "markdown",
      "source": "#Add the string 'nothing' to the list, so that we get an exception thrown when python tries to execute it. Hint: .append()",
      "metadata": {}
    },
    {
      "cell_type": "code",
      "source": "functions_list.append(\"nothing\")",
      "metadata": {
        "collapsed": false,
        "jupyter": {
          "outputs_hidden": false
        },
        "trusted": true
      },
      "outputs": [],
      "execution_count": null
    },
    {
      "cell_type": "markdown",
      "source": "#Now put function call inside a try: except: clause to gracefully handle the exception. Hint: try: & except:",
      "metadata": {}
    },
    {
      "cell_type": "code",
      "source": "for function in functions_list:\n    try:\n        print(f\"Result of {func}: {func(color)}\")\n    except Exceptions as e:\n        print(f\"Error when trying to execute {func}: {e}\")\n    ",
      "metadata": {
        "collapsed": false,
        "jupyter": {
          "outputs_hidden": false
        },
        "trusted": true
      },
      "outputs": [],
      "execution_count": null
    },
    {
      "cell_type": "markdown",
      "source": "### The Python String .format() Method\nThe Python string .format() method was introduced in version 2.6. str.format() is an improvement on %-formatting. It uses normal function call syntax and is extensible through the __format__() method on the object being converted to a string. With str.format(), the replacement fields are marked by curly braces. \n\n![Format Method Syntax](https://files.realpython.com/media/t.e6b8525755da.png)\n\n\n",
      "metadata": {},
      "attachments": {}
    },
    {
      "cell_type": "code",
      "source": "print('{0} {1} cost ${2}'.format(6, 'bananas', 1.74))",
      "metadata": {
        "trusted": true
      },
      "outputs": [],
      "execution_count": null
    },
    {
      "cell_type": "markdown",
      "source": "$\\alpha^2$\n",
      "metadata": {}
    },
    {
      "cell_type": "markdown",
      "source": "#### Exercise 5: Use the .format() method to format the following string: \"Hello, my name is {name} and I am {age} years old.\" Replace the placeholders {name} and {age} with your name and age. ",
      "metadata": {},
      "attachments": {}
    },
    {
      "cell_type": "code",
      "source": "print(\"Hello, my name is {name} and I am {age} years old.\".format(name='Brenna', age=25))\n",
      "metadata": {
        "trusted": true
      },
      "outputs": [],
      "execution_count": null
    },
    {
      "cell_type": "markdown",
      "source": "#### Exercise 6: Slicing a String Use slicing to extract a portion of the following string: \"Hello, World!\" and print it to the console.",
      "metadata": {},
      "attachments": {}
    },
    {
      "cell_type": "code",
      "source": "message = \"Hello, World!\"\n\nprint(message[0:5])",
      "metadata": {
        "trusted": true
      },
      "outputs": [],
      "execution_count": null
    },
    {
      "cell_type": "markdown",
      "source": "#### Exerice 7: Using nicely formatted Jupyter markdown explain how version control with git is important.  ",
      "metadata": {}
    },
    {
      "cell_type": "markdown",
      "source": "#### ENTER ANSWER HERE",
      "metadata": {},
      "attachments": {}
    },
    {
      "cell_type": "markdown",
      "source": "#Using nicely formatted Jupyter markdown, explain how version control with git is important.",
      "metadata": {}
    },
    {
      "cell_type": "markdown",
      "source": "# Version control with git is important for the following reasons:\n\n---\n\n## 1. Git tracks changes so you can always go back to previous versions and see who made those changes.\n\n---\n\n## 2. You can create branches and work on those versions without affecting the main project.\n\n---\n\n## 3. It allow multiple people to work on the same project without overwriting anyones work because it merges everyone's changes together.\n\n\n---",
      "metadata": {}
    },
    {
      "cell_type": "code",
      "source": "",
      "metadata": {
        "trusted": true
      },
      "outputs": [],
      "execution_count": null
    }
  ]
}