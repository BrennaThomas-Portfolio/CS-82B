{
 "cells": [
  {
   "attachments": {},
   "cell_type": "markdown",
   "metadata": {},
   "source": [
    "## Introduction to Python Libraries\n",
    "\n",
    "Pandas is a powerful Python library used for data manipulation and analysis. It provides two main data structures - Series and DataFrame - that allow you to work with labeled and relational data, respectively. Pandas is widely used in data science, machine learning, and financial analysis.\n",
    "\n",
    "Seaborn is a Python library built on top of the popular data visualization library, matplotlib. It is specifically designed for creating informative and attractive statistical graphics in Python. Seaborn makes it easy to create complex visualizations such as heatmaps, scatterplots, and line plots with just a few lines of code.\n",
    "\n",
    "Matplotlib is a Python library used for creating static, animated, and interactive visualizations in Python. It is one of the most popular and widely used data visualization libraries in Python. Matplotlib provides a wide range of functionalities for creating high-quality plots, graphs, and charts.\n",
    "\n",
    "\n",
    "### Installation\n",
    "To install or update the Python Libaries, run the below pip commands. If you encounter an errors add an upgrade -U argument after install: !pip install -U pandas "
   ]
  },
  {
   "cell_type": "code",
   "execution_count": null,
   "metadata": {},
   "outputs": [],
   "source": [
    "!pip install pandas\n",
    "!pip install matplotlib\n",
    "!pip install seaborn\n",
    "!pip install numpy\n",
    "\n",
    "!pip3 install pandas\n",
    "!pip3 install matplotlib\n",
    "!pip3 install seaborn\n",
    "!pip3 install numpy"
   ]
  },
  {
   "cell_type": "code",
   "execution_count": null,
   "metadata": {},
   "outputs": [],
   "source": [
    "# Import Libaraies \n",
    "import pandas as pd\n",
    "import numpy as np\n",
    "import matplotlib.pyplot as plt\n",
    "import seaborn as sns"
   ]
  },
  {
   "attachments": {},
   "cell_type": "markdown",
   "metadata": {},
   "source": [
    "#### Open Method open()\n",
    "The open() method is a built-in Python function used to open files in different modes. Here's an explanation of its syntax and functionality:\n",
    "\n",
    "open(file, mode='r', buffering=-1, encoding=None, errors=None, newline=None, closefd=True, opener=None)\n",
    "\n",
    "Parameters:\n",
    "\n",
    "- file: The name of the file to open.\n",
    "- mode: The mode in which to open the file. This is an optional parameter, and its default value is 'r', which means the file is opened in read-only mode.\n",
    "\n",
    "Functionality:\n",
    "The open() method returns a file object that can be used to read from or write to the file. When the file is no longer needed, it should be closed using the close() method."
   ]
  },
  {
   "cell_type": "code",
   "execution_count": null,
   "metadata": {},
   "outputs": [],
   "source": [
    "# Open the file in read-only mode\n",
    "file = open('example.txt', 'r')\n",
    "\n",
    "# Read the entire file\n",
    "contents = file.read()\n",
    "\n",
    "# Print the contents of the file\n",
    "print(contents)\n",
    "\n",
    "# Close the file\n",
    "file.close()"
   ]
  },
  {
   "attachments": {},
   "cell_type": "markdown",
   "metadata": {},
   "source": [
    "### Read Methods read() and readline()\n",
    "In Python, there are several ways to read data from a file. The two main methods are read() and readline(). Here's an explanation of how they work:\n",
    "\n",
    "The read() method is used to read a specified number of bytes from a file. If no size is specified, the entire contents of the file are read. The syntax for the read() method is:\n",
    "\n",
    "file.read(size) where file is the file object and size is the number of bytes to read. If no size is specified, the entire contents of the file are read.\n",
    "\n",
    "In the below example, we open a file called example.txt in read mode, read its entire contents using the read() method, close the file using the close() method, and then print the contents to the console.\n",
    "\n",
    "readline() The readline() method is used to read a single line from a file. The syntax for the readline() method is:\n",
    "\n",
    "file.readline() where file is the file object. This method reads a single line from the file, including the newline character at the end of the line.\n",
    "\n"
   ]
  },
  {
   "cell_type": "code",
   "execution_count": null,
   "metadata": {},
   "outputs": [],
   "source": [
    "# Open a file in read mode\n",
    "file = open(\"example.txt\", \"r\")\n",
    "\n",
    "# Read the entire contents of the file\n",
    "contents = file.read()\n",
    "\n",
    "# Print the contents of the file\n",
    "print(contents)\n",
    "\n",
    "# Close the file\n",
    "file.close()\n",
    "\n",
    "# Print the contents of the file\n",
    "print(contents)"
   ]
  },
  {
   "attachments": {},
   "cell_type": "markdown",
   "metadata": {},
   "source": [
    "#### Importing Pandas\n",
    "To start using Pandas and NumPy, you need to import them first:"
   ]
  },
  {
   "cell_type": "code",
   "execution_count": null,
   "metadata": {},
   "outputs": [],
   "source": [
    "import pandas as pd\n",
    "import numpy as np"
   ]
  },
  {
   "attachments": {},
   "cell_type": "markdown",
   "metadata": {},
   "source": [
    "#### Data Structures\n",
    "Series\n",
    "A Series is a one-dimensional labeled array capable of holding any data type. You can create a Series by passing a Python list or NumPy array to the pd.Series() function:"
   ]
  },
  {
   "cell_type": "code",
   "execution_count": null,
   "metadata": {},
   "outputs": [],
   "source": [
    "s = pd.Series([1, 3, 5, np.nan, 6, 8])\n",
    "print(s)"
   ]
  },
  {
   "attachments": {},
   "cell_type": "markdown",
   "metadata": {},
   "source": [
    "### DataFrame\n",
    "A DataFrame is a two-dimensional labeled data structure with columns of potentially different types. You can create a DataFrame by passing a dictionary of arrays to the pd.DataFrame() function:"
   ]
  },
  {
   "attachments": {},
   "cell_type": "markdown",
   "metadata": {},
   "source": [
    "#### Reading and Writing Data\n",
    "Pandas provides functions to read and write data from various file formats, such as CSV, Excel, SQL, and more.\n",
    "\n",
    "Reading CSV files\n",
    "To read a CSV file into a Pandas DataFrame, use the pd.read_csv() function:"
   ]
  },
  {
   "cell_type": "code",
   "execution_count": null,
   "metadata": {},
   "outputs": [],
   "source": [
    "df = pd.read_csv('data.csv')\n",
    "print(df.head())"
   ]
  },
  {
   "attachments": {},
   "cell_type": "markdown",
   "metadata": {},
   "source": [
    "#### Writing CSV files\n",
    "To write a Pandas DataFrame to a CSV file, use the df.to_csv() method:"
   ]
  },
  {
   "cell_type": "code",
   "execution_count": null,
   "metadata": {},
   "outputs": [],
   "source": [
    "df.to_csv('new_data.csv', index=False)"
   ]
  },
  {
   "attachments": {},
   "cell_type": "markdown",
   "metadata": {},
   "source": [
    "### head() and tail()\n",
    "\n",
    "In Python, both head() and tail() are methods used to display a specified number of rows from the beginning or the end of a dataset. These methods are commonly used in data analysis and manipulation tasks.\n",
    "\n",
    "The head() method is used to display the first few rows of a dataset. By default, it displays the first 5 rows of the dataset, but this can be modified by passing an integer parameter to the method indicating the number of rows to display. \n",
    "\n",
    "The tail() method is used to display the last few rows of a dataset. Like head(), it also displays the last 5 rows of the dataset by default, but this can be modified by passing an integer parameter to the method indicating the number of rows to display. "
   ]
  },
  {
   "cell_type": "code",
   "execution_count": null,
   "metadata": {},
   "outputs": [],
   "source": [
    "import pandas as pd\n",
    "\n",
    "# read a csv file into a pandas dataframe\n",
    "df = pd.read_csv('data.csv')\n",
    "\n",
    "# display the first 5 rows of the dataframe\n",
    "print(df.head())\n",
    "\n",
    "\n",
    "# display the first 10 rows of the dataframe\n",
    "print(df.head(10))\n",
    "\n",
    "\n",
    "# display the last 5 rows of the dataframe\n",
    "print(df.tail())\n",
    "\n",
    "# display the last 10 rows of the dataframe\n",
    "print(df.tail(10))\n",
    "\n",
    "# get the dimensions of the DataFrame using shape\n",
    "dimensions = df.shape\n",
    "\n",
    "print(dimensions)"
   ]
  },
  {
   "attachments": {},
   "cell_type": "markdown",
   "metadata": {},
   "source": [
    "#### iloc and loc \n",
    "\n",
    "In Python, iloc and loc are methods in the Pandas library that are used to select and index rows and columns of a Pandas DataFrame. While both methods are similar in nature, they differ in the way they select and index rows and columns of the DataFrame.\n",
    "\n"
   ]
  },
  {
   "cell_type": "code",
   "execution_count": null,
   "metadata": {},
   "outputs": [],
   "source": [
    "# create a Pandas DataFrame\n",
    "df = pd.DataFrame({'A': [1, 2, 3, 4, 5], 'B': [6, 7, 8, 9, 10], 'C': [11, 12, 13, 14, 15]})\n",
    "\n",
    "# select the first three rows and the first two columns using iloc\n",
    "subset = df.iloc[:3, :2]\n",
    "\n",
    "print(subset)\n"
   ]
  },
  {
   "cell_type": "code",
   "execution_count": null,
   "metadata": {},
   "outputs": [],
   "source": [
    "# create a Pandas DataFrame\n",
    "df = pd.DataFrame({'A': [1, 2, 3, 4, 5], 'B': [6, 7, 8, 9, 10], 'C': [11, 12, 13, 14, 15]}, index=['a', 'b', 'c', 'd', 'e'])\n",
    "\n",
    "# select the rows with labels 'a' and 'c' and the columns 'A' and 'B' using loc\n",
    "subset = df.loc[['a', 'c'], ['A', 'B']]\n",
    "\n",
    "print(subset)"
   ]
  },
  {
   "attachments": {},
   "cell_type": "markdown",
   "metadata": {},
   "source": [
    "In Python, shape and info are two commonly used methods in the Pandas library to get information about a Pandas DataFrame.\n",
    "\n",
    "shape method:\n",
    "\n",
    "- It is used to get the dimensions (i.e., the number of rows and columns) of a Pandas DataFrame.\n",
    "- The syntax for using shape is df.shape.\n",
    "- The output of shape is a tuple with two elements, representing the number of rows and columns, respectively.\n",
    "\n",
    "info method:\n",
    "\n",
    "- It is used to get the basic information about a Pandas DataFrame, such as the number of non-null values, the data types of columns, and the memory usage.\n",
    "- The syntax for using info is df.info().\n",
    "- The output of info is a summary of the DataFrame's basic information.\n"
   ]
  },
  {
   "cell_type": "code",
   "execution_count": null,
   "metadata": {},
   "outputs": [],
   "source": [
    "import pandas as pd\n",
    "\n",
    "# create a Pandas DataFrame\n",
    "df = pd.DataFrame({'A': [1, 2, 3, 4, 5], 'B': [6, 7, 8, 9, 10], 'C': [11, 12, 13, 14, 15]})\n",
    "\n",
    "# get the dimensions of the DataFrame using shape\n",
    "dimensions = df.shape\n",
    "\n",
    "print(dimensions)\n"
   ]
  },
  {
   "cell_type": "code",
   "execution_count": null,
   "metadata": {},
   "outputs": [],
   "source": [
    "import pandas as pd\n",
    "\n",
    "# create a Pandas DataFrame\n",
    "df = pd.DataFrame({'A': [1, 2, 3, 4, 5], 'B': [6, 7, 8, 9, 10], 'C': [11, 12, 13, 14, 15]})\n",
    "\n",
    "# get the basic information about the DataFrame using info\n",
    "df.info()\n",
    "\n"
   ]
  },
  {
   "attachments": {},
   "cell_type": "markdown",
   "metadata": {},
   "source": [
    "#### corr()\n",
    "\n",
    "In Python, the corr() function is a method of Pandas DataFrame objects used to calculate the pairwise correlation of columns in a DataFrame. Correlation measures the degree to which two variables are related to each other, and the corr() function calculates the correlation coefficient between each pair of columns in a DataFrame.\n",
    "\n",
    "By default, corr() uses the Pearson correlation coefficient to calculate the correlation between each pair of columns. The Pearson correlation coefficient is a measure of the linear relationship between two variables and ranges from -1 to 1. A correlation coefficient of 1 indicates a perfect positive linear relationship, 0 indicates no relationship, and -1 indicates a perfect negative linear relationship.\n",
    "\n",
    "The corr() function returns a DataFrame object that shows the correlation coefficient between each pair of columns. The rows and columns of the DataFrame correspond to the column names in the original DataFrame. Each cell in the DataFrame represents the correlation coefficient between the row and column corresponding to that cell.\n",
    "\n",
    "For example, let's say we have a DataFrame called df with columns x, y, and z. We can use the corr() function to calculate the pairwise correlation between these columns:"
   ]
  },
  {
   "cell_type": "code",
   "execution_count": null,
   "metadata": {},
   "outputs": [],
   "source": [
    "import pandas as pd\n",
    "\n",
    "# create a Pandas DataFrame\n",
    "df = pd.DataFrame({'A': [1, 2, 3, 4, 5], 'B': [6, 7, 8, 9, 10], 'C': [11, 12, 13, 14, 15]})\n",
    "\n",
    "# calculate the correlation between columns using corr\n",
    "correlation = df.corr()\n",
    "\n",
    "print(correlation)\n"
   ]
  },
  {
   "attachments": {},
   "cell_type": "markdown",
   "metadata": {},
   "source": [
    "Since each column is perfectly correlated with itself, we see that the diagonal of the output is all 1s.\n",
    "\n",
    "Note that corr() can take an optional method parameter, which allows you to specify a different correlation method to use instead of the default Pearson correlation. For example, you can use the Spearman rank correlation coefficient by passing method='spearman' to corr()."
   ]
  },
  {
   "attachments": {},
   "cell_type": "markdown",
   "metadata": {},
   "source": [
    "#### Data Manipulation\n",
    "Selecting and Filtering Data\n",
    "You can select and filter data in a Pandas DataFrame using various methods, such as indexing, boolean indexing, and query."
   ]
  },
  {
   "cell_type": "code",
   "execution_count": null,
   "metadata": {},
   "outputs": [],
   "source": [
    "import pandas as pd\n",
    "\n",
    "# read the CSV file into a pandas dataframe\n",
    "df = pd.read_csv('people_data.csv')\n",
    "\n",
    "# print the dataframe\n",
    "print(df)\n",
    "\n",
    "# Select a column by name\n",
    "df['name']\n",
    "\n",
    "# Select multiple columns by name\n",
    "df[['name', 'age']]\n",
    "\n",
    "# Filter rows by condition\n",
    "df[df['age'] > 25]\n",
    "\n",
    "# Filter rows by multiple conditions\n",
    "df[(df['age'] > 25) & (df['city'] == 'New York')]\n",
    "\n",
    "# Use query to filter rows by condition\n",
    "df.query('age > 25 and city == \"New York\"')\n"
   ]
  },
  {
   "attachments": {},
   "cell_type": "markdown",
   "metadata": {},
   "source": [
    "#### Adding and Dropping Columns\n",
    "You can add and drop columns in a Pandas DataFrame using the df['new_column'] = ... syntax and the df.drop() method, respectively."
   ]
  },
  {
   "cell_type": "code",
   "execution_count": null,
   "metadata": {},
   "outputs": [],
   "source": [
    "# Add a new column\n",
    "# df['job'] = ['Developer', 'Data Analysis', 'Machine Learning Engineer', 'Business Intelligence Analyst']\n",
    "\n",
    "# Drop a column\n",
    "df.drop('gender', axis=1, inplace=True)\n",
    "\n",
    "# Display df info()\n",
    "df.info()\n"
   ]
  },
  {
   "cell_type": "code",
   "execution_count": null,
   "metadata": {},
   "outputs": [],
   "source": [
    "# Open the CSV file\n",
    "file = open('data.csv', 'r')\n",
    "\n",
    "# Read the header row\n",
    "header = file.readline().strip().split(',')\n",
    "print(header)\n",
    "\n",
    "# Read the data rows\n",
    "data = []\n",
    "for line in file.readlines():\n",
    "    row = line.strip().split(',')\n",
    "    data.append(row)\n",
    "print(data)\n",
    "\n",
    "# Close the file\n",
    "file.close()\n"
   ]
  },
  {
   "attachments": {},
   "cell_type": "markdown",
   "metadata": {},
   "source": [
    "#### Filter Data\n",
    "\n",
    "In Python, the Pandas library provides a variety of methods to filter data in a DataFrame. These methods allow you to select specific rows and columns based on certain conditions.\n",
    "\n",
    "Here are some common ways to filter data in a Pandas DataFrame:\n",
    "\n",
    "Using boolean indexing: You can use a boolean expression to filter rows based on some condition. For example, suppose you have a DataFrame called df with a column called \"score\". You can filter out all the rows where the score is greater than 80 as follows:\n",
    "\n",
    "df_filtered = df[df['score'] > 80]\n",
    "\n",
    "Using the query() method: The query() method allows you to filter rows using a string containing a boolean expression. For example, the following code filters out all the rows where the score is greater than 80:\n",
    "python\n",
    "\n",
    "df_filtered = df.query('score > 80')\n",
    "\n",
    "Using the loc[] method: The loc[] method allows you to filter rows and columns using labels. For example, the following code filters out all the rows where the score is greater than 80 and selects only the \"name\" and \"score\" columns:\n",
    "\n",
    "df_filtered = df.loc[df['score'] > 80, ['name', 'score']]\n",
    "\n",
    "Using the iloc[] method: The iloc[] method allows you to filter rows and columns using integer indexes. For example, the following code filters out the first three rows and selects only the first two columns:\n",
    "\n",
    "df_filtered = df.iloc[:3, :2]\n",
    "\n",
    "These are just a few examples of how to filter data in a Pandas DataFrame. The Pandas library provides many more methods and options for filtering data, depending on your specific needs."
   ]
  },
  {
   "attachments": {},
   "cell_type": "markdown",
   "metadata": {},
   "source": [
    "### Exercise 1: Reading a CSV File\n",
    "In this exercise, we will read a CSV (Comma Separated Values) file using the open(), read(), and readline() methods.\n",
    "\n",
    "Suppose we have a CSV file named 'myDataSet.csv' with the following content (Create this file):\n",
    "\n",
    "> Name, Age, Gender\n",
    "\n",
    "> Alice, 25, Female\n",
    "\n",
    "> Bob, 32, Male\n",
    "\n",
    "> Charlie, 19, Male\n",
    "\n",
    "\n",
    "Our task is to read the CSV file and print its contents.\n",
    "\n",
    "Hint:\n",
    "- We start by opening the CSV file 'data.csv' in read mode using the open() function with the 'r' mode.\n",
    "Next, we use the readline() method to read the first line of the file, which contains the header row, and store it in the header variable.\n",
    "- We strip the newline character using the strip() method, and split the string into a list using the split() method with ',' as the delimiter.\n",
    "- We then print the header using the print() function.\n",
    "After that, we use the readlines() method to read the remaining lines of the file, which contain the data rows, and store them in a list called data.\n",
    "- We iterate over each line in the readlines() output, strip the newline character using the strip() method, and split the string into a list using the split() method with ',' as the delimiter.\n",
    "- We then append the list to the data list.\n",
    "- We then print the data list using the print() function.\n",
    "Finally, we close the file using the close() method.\n"
   ]
  },
  {
   "attachments": {},
   "cell_type": "markdown",
   "metadata": {},
   "source": [
    "### Exercise 2: Data Frame Manipulation\n",
    "\n",
    "You have a DataFrame with the following columns:\n",
    "\n",
    "- Product: the name of the product.\n",
    "- Price: the price of the product.\n",
    "- Quantity: the quantity of the product.\n",
    "- Category: the category of the product.\n",
    "- Your task is to perform the following operations on the DataFrame:\n",
    "\n",
    "Filter the DataFrame to include only products that have a quantity of at least 10 and a price of at most $50.\n",
    "Group the filtered DataFrame by category and calculate the average price and quantity for each category.\n"
   ]
  },
  {
   "cell_type": "code",
   "execution_count": null,
   "metadata": {},
   "outputs": [],
   "source": [
    "import pandas as pd\n",
    "\n",
    "# create the DataFrame\n",
    "data = {'Product': ['Apple', 'Orange', 'Banana', 'Grape', 'Pineapple'],\n",
    "        'Price': [1.2, 0.9, 0.6, 1.5, 2.5],\n",
    "        'Quantity': [15, 5, 20, 10, 8],\n",
    "        'Category': ['Fruit', 'Fruit', 'Fruit', 'Fruit', 'Fruit']}\n",
    "df = pd.DataFrame(data)\n",
    "\n",
    "# filter the DataFrame\n",
    "filtered_df = # ENTER CODE \n",
    "\n",
    "# group the filtered DataFrame by category and calculate the average price and quantity\n",
    "grouped_df =  # ENTER CODE \n",
    "\n",
    "print(grouped_df)"
   ]
  },
  {
   "attachments": {},
   "cell_type": "markdown",
   "metadata": {},
   "source": [
    "### Exercise 3: Titanic  \n",
    "You have a DataFrame containing information about the passengers on the Titanic. The columns are:\n",
    "\n",
    "- survived: whether the passenger survived or not (0 = no, 1 = yes).\n",
    "- pclass: the class of the passenger (1 = first, 2 = second, 3 = third).\n",
    "- sex: the gender of the passenger (male or female).\n",
    "- age: the age of the passenger.\n",
    "- fare: the fare paid by the passenger.\n",
    "- embarked: the port of embarkation (C = Cherbourg, Q = Queenstown, S = Southampton).\n",
    "\n",
    "Your task is to perform the following operations on the DataFrame:\n",
    "- Examine the top, bottom and data dimensions tail() head() shape, info()\n",
    "- Create a new column is_child that contains a boolean value indicating whether the passenger is a child or not (a child is defined as being under 18 years of age).\n",
    "- Create a new column family_size that contains the size of the passenger's family (including the passenger themselves).\n",
    "\n",
    "Hint: \n",
    "- We load the Titanic dataset using the load_dataset() function of Seaborn and assign it to titanic_df.\n",
    "- We create a new column is_child in titanic_df by applying a boolean condition on age column of titanic_df.  If the age is less than 18, it is assigned a boolean value of True, otherwise False.\n",
    "- We create a new column family_size in titanic_df by adding the sibsp (number of siblings/spouses aboard) and parch (number of parents/children aboard) columns of titanic_df and then adding 1 (for the passenger themselves).\n",
    "- We print the first 5 rows of the DataFrame using the head() function to see the changes."
   ]
  },
  {
   "cell_type": "code",
   "execution_count": null,
   "metadata": {},
   "outputs": [],
   "source": [
    "import pandas as pd\n",
    "import seaborn as sns\n",
    "\n",
    "# load the Titanic dataset read_csv()\n",
    "titanic_df =  # ENTER CODE \n",
    "\n",
    "# create a new column is_child\n",
    "titanic_df['is_child'] =  # ENTER CODE \n",
    "\n",
    "# create a new column family_size\n",
    "titanic_df['family_size'] =  # ENTER CODE \n",
    "\n",
    "# display the first 5 rows of the DataFrame\n",
    "print(titanic_df.head())\n"
   ]
  },
  {
   "attachments": {},
   "cell_type": "markdown",
   "metadata": {},
   "source": [
    "### Exercise 4: Basic Data Cleaning\n",
    "\n",
    "This exercise teaches data cleaning using the Titanic dataset by removing unnecessary columns, filling in missing values, converting categorical variables, normalizing numerical columns, removing duplicates, and creating visualizations to explore the data. The cleaned dataset can then be used for further analysis or visualization. Follow the comments in the code below to complete this exercise. \n",
    "\n",
    "Resource: https://www.kaggle.com/code/alexisbcook/titanic-tutorial "
   ]
  },
  {
   "cell_type": "code",
   "execution_count": null,
   "metadata": {},
   "outputs": [],
   "source": [
    "import pandas as pd\n",
    "import seaborn as sns\n",
    "\n",
    "df = pd.read_csv('titanic.csv')\n",
    "\n",
    "# Explore the dataset using the head and describe functions.\n",
    "# ENTER CODE \n",
    "\n",
    "# Drop the columns that you don't need for analysis. In this case, we can drop() the PassengerId, Name, Ticket, and Cabin columns.\n",
    "df = # ENTER CODE \n",
    "\n",
    "\n",
    "# Check for missing values using the isna and sum functions.\n",
    "print(# ENTER CODE )\n",
    "\n",
    "#  Fill in missing values for the Age column using the median age of the passengers.\n",
    "df['Age'] = df['Age'].fillna(# ENTER CODE)\n",
    "\n",
    "# Fill in missing values for the Embarked column using the most common port of embarkation.\n",
    "df['Embarked'] = df['Embarked'].fillna(# ENTER CODE)\n",
    "\n",
    "# Convert the Sex column to a binary variable, where 0 represents male and 1 represents female.\n",
    "df['Sex'] = pd.# ENTER CODE\n",
    "\n",
    "# Convert the Embarked column to a categorical variable using the Categorical() method.\n",
    "df['Embarked'] = pd.Categorical(df['Embarked'])\n",
    "\n",
    "# Convert the Pclass column to a categorical variable.\n",
    "df['Pclass'] = pd.Categorical(df['Pclass'])\n",
    "\n",
    "#Explore the dataset using visualizations using the seaborn library. For example, you can create a histogram of the Age column.\n",
    "# ENTER CODE\n",
    "\n",
    "# Identify and remove any outliers in the dataset using the boxplot function from seaborn.\n",
    "sns.boxplot(# ENTER CODE)\n",
    "df = df[df['Age'] < 80]\n",
    "\n",
    "# Check for duplicates in the dataset using the duplicated function.\n",
    "print(df.# ENTER CODE)\n",
    "\n",
    "# Save the cleaned dataset to a new CSV file using to_csv().\n",
    "df.to_csv('titanic_cleaned.csv', index=False)\n"
   ]
  },
  {
   "attachments": {},
   "cell_type": "markdown",
   "metadata": {},
   "source": [
    "### Exercise 5: Data Visualization\n",
    "\n",
    "You have a DataFrame with the below columns:\n",
    "\n",
    "Year: the year.\n",
    "Population: the population of a country.\n",
    "Your task is to create a line plot that shows the population of the country over time.\n",
    "\n",
    "Steps:\n",
    "\n",
    "- Create a dictionary data that contains the data for the DataFrame.\n",
    "- Create the DataFrame df by passing the dictionary data to the pd.DataFrame() function.\n",
    "- Create a line plot using the plot() function of matplotlib, passing in the Year column as the x-axis and the Population column as the y-axis.\n",
    "- Set the title and axis labels using the title(), xlabel(), and ylabel() functions of matplotlib.\n",
    "- Show the plot using the show() function of matplotlib."
   ]
  },
  {
   "cell_type": "code",
   "execution_count": null,
   "metadata": {},
   "outputs": [],
   "source": [
    "# Using the below DataFrame\n",
    "data = {'Year': [2000, 2005, 2010, 2015, 2020],\n",
    "        'Population': [100, 120, 150, 180, 200]}\n",
    "\n",
    "df = # ENTER CODE\n",
    "\n",
    "# create a line plot\n",
    "plt.plot(# ENTER CODE)\n",
    "\n",
    "# set the title 'Population of Country over Time'\n",
    "# set the x axis label to 'Year'\n",
    "# set the y axis label to 'Population'\n",
    "\n",
    "plt.title(# ENTER CODE)\n",
    "plt.xlabel(# ENTER CODE)\n",
    "plt.ylabel(# ENTER CODE)\n",
    "\n",
    "# show() the plot\n",
    "plt.# ENTER CODE"
   ]
  },
  {
   "attachments": {},
   "cell_type": "markdown",
   "metadata": {},
   "source": [
    "### Exercise 6: Select Dataset from Kaggle\n",
    "\n",
    "Select any dataset from https://www.kaggle.com/. Use the concepts learned in the chapter include cleaning and plotting of the dataset. \n",
    "\n",
    "##### Commonly Used Datasets for Learning\n",
    "- The Boston Housing Dataset\n",
    "- Iris Species\n",
    "- Wine Dataset"
   ]
  },
  {
   "cell_type": "code",
   "execution_count": 50,
   "metadata": {},
   "outputs": [],
   "source": [
    "# ENTER CODE HERE"
   ]
  }
 ],
 "metadata": {
  "kernelspec": {
   "display_name": "Python 3",
   "language": "python",
   "name": "python3"
  },
  "language_info": {
   "codemirror_mode": {
    "name": "ipython",
    "version": 3
   },
   "file_extension": ".py",
   "mimetype": "text/x-python",
   "name": "python",
   "nbconvert_exporter": "python",
   "pygments_lexer": "ipython3",
   "version": "3.11.0"
  },
  "orig_nbformat": 4
 },
 "nbformat": 4,
 "nbformat_minor": 2
}
